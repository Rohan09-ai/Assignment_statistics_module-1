{
  "nbformat": 4,
  "nbformat_minor": 0,
  "metadata": {
    "colab": {
      "provenance": []
    },
    "kernelspec": {
      "name": "python3",
      "display_name": "Python 3"
    },
    "language_info": {
      "name": "python"
    }
  },
  "cells": [
    {
      "cell_type": "markdown",
      "source": [
        "Question 1: What is the difference between descriptive statistics and inferential statistics? Explain with examples.\n",
        "- Answer: Descriptive Statistics:\n",
        "Summarizes and describes the important features of a dataset.\n",
        "\n",
        "\n",
        "- It uses measures like mean, median, mode, standard deviation, graphs, and charts.\n",
        "\n",
        "\n",
        "- Example: If we have the marks of 50 students in a class, descriptive statistics would give us the average marks, highest marks, lowest marks, and graphs showing distribution.\n",
        "\n",
        "\n",
        "- Inferential Statistics:\n",
        "\n",
        "- Makes predictions or draws conclusions about a population based on a sample.\n",
        "\n",
        "\n",
        "- It uses techniques like hypothesis testing, regression, and confidence intervals.\n",
        "\n",
        "\n",
        "- Example: If we take a sample of 50 students from a college of 2000 students, and then estimate the average marks of all 2000 students, we are using inferential statistics.\n",
        "\n",
        "Question 2 :  What is sampling in statistics? Explain the differences between random and stratified sampling.\n",
        "\n",
        "Answer:\n",
        "- Sampling:\n",
        " The process of selecting a small group (sample) from a larger set (population) to study and draw conclusions about the whole population.\n",
        "\n",
        "\n",
        "- Random Sampling : Every member of the population has an equal chance of being selected.\n",
        "\n",
        "\n",
        "- Example: Selecting 100 voters’ names\n",
        "\n",
        "\n",
        "Question 3: Define mean, median, and mode. Explain why these measures of central tendency are important.\n",
        "\n",
        "Answer:\n",
        "\n",
        "- Mean (Average) : The sum of all observations divided by the number of observations.\n",
        "\n",
        " - Mean=Sum of values/Number of values ​\n",
        "\n",
        "  --  Example: For data [10, 20, 30], Mean = (10+20+30)/3 = 20.\n",
        "\n",
        "\n",
        "- Median:\n",
        " The middle value when data is arranged in ascending order.\n",
        " Example: For [10, 20, 30, 40, 50], Median = 30.\n",
        "\n",
        "\n",
        "\n",
        "- Mode:\n",
        " The value that occurs most frequently in the dataset.\n",
        " Example: For [2, 4, 4, 6, 8], Mode = 4.\n",
        "\n",
        "\n",
        "- Importance:\n",
        "  - These measures summarize a dataset with a single representative value.\n",
        "\n",
        "\n",
        "  - They help in comparing datasets.\n",
        "\n",
        "\n",
        "  - Useful in fields like business, economics, and education for decision-making.\n",
        "\n",
        "\n",
        "\n",
        "Question 4: Explain skewness and kurtosis. What does a positive skew imply about the data?\n",
        "\n",
        " Answer:\n",
        "\n",
        "- Skewness : Measures the asymmetry of a distribution.\n",
        "\n",
        "\n",
        "   - Positive Skew (Right-skewed): Tail is longer on the right. Mean > Median.\n",
        "\n",
        "\n",
        "   -  Negative Skew (Left-skewed): Tail is longer on the left. Mean < Median.\n",
        "\n",
        "\n",
        "- Kurtosis:\n",
        " Measures the peakedness or flatness of a distribution compared to normal distribution.\n",
        "\n",
        "\n",
        "  -  High Kurtosis: Sharp peak, heavy tails (more outliers).\n",
        "\n",
        "\n",
        "  - Low Kurtosis: Flat peak, light tails (fewer outliers).\n",
        "\n",
        "\n",
        "-- Positive Skew implies:\n",
        " Most values are concentrated on the lower side, but a few very high values stretch the tail to the right.\n",
        "\n",
        "  --Example: Income distribution in a country (majority earn less, few earn very high).\n",
        "\n",
        "Question 5: Implement a Python program to compute the mean, median, and mode of a given list of numbers.\n",
        "\n",
        "\n"
      ],
      "metadata": {
        "id": "AERme1aiQ5_F"
      }
    },
    {
      "cell_type": "code",
      "source": [
        "from statistics import mean, median, mode\n",
        "\n",
        "# Given data\n",
        "numbers = [12, 15, 12, 18, 19, 12, 20, 22, 19, 19, 24, 24, 24, 26, 28]\n",
        "\n",
        "# Calculating\n",
        "mean_value = mean(numbers)\n",
        "median_value = median(numbers)\n",
        "mode_value = mode(numbers)\n",
        "\n",
        "print(\"Numbers:\", numbers)\n",
        "print(\"Mean:\", mean_value)\n",
        "print(\"Median:\", median_value)\n",
        "print(\"Mode:\", mode_value)\n"
      ],
      "metadata": {
        "colab": {
          "base_uri": "https://localhost:8080/"
        },
        "id": "O0IBpb8aUFJw",
        "outputId": "536d49e5-f3f9-4433-de27-c8147b9d4f8c"
      },
      "execution_count": 1,
      "outputs": [
        {
          "output_type": "stream",
          "name": "stdout",
          "text": [
            "Numbers: [12, 15, 12, 18, 19, 12, 20, 22, 19, 19, 24, 24, 24, 26, 28]\n",
            "Mean: 19.6\n",
            "Median: 19\n",
            "Mode: 12\n"
          ]
        }
      ]
    },
    {
      "cell_type": "markdown",
      "source": [
        "Question 6: Compute the covariance and correlation coefficient between the following two datasets in Python.\n",
        "\n",
        "Answer:\n",
        "\n",
        "- Covariance:\n",
        "Measures how two variables vary together.\n",
        "\n",
        "  - Positive → variables increase together.\n",
        "\n",
        "  - Negative → one increases while the other decreases.\n",
        "\n",
        "- Correlation Coefficient (Pearson’s r):\n",
        "Standardized measure of covariance (ranges between -1 and +1).\n",
        "\n",
        "  - +1 → Perfect positive relation\n",
        "\n",
        "  - -1 → Perfect negative relation\n",
        "\n",
        "  - 0 → No relation"
      ],
      "metadata": {
        "id": "6vsyMO01UKSp"
      }
    },
    {
      "cell_type": "code",
      "source": [
        "import numpy as np\n",
        "\n",
        "# Given data\n",
        "list_x = [10, 20, 30, 40, 50]\n",
        "list_y = [15, 25, 35, 45, 60]\n",
        "\n",
        "# Convert to numpy arrays\n",
        "x = np.array(list_x)\n",
        "y = np.array(list_y)\n",
        "\n",
        "# Covariance matrix\n",
        "cov_matrix = np.cov(x, y, bias=True)  # bias=True → population covariance\n",
        "cov_xy = cov_matrix[0, 1]\n",
        "\n",
        "# Correlation coefficient\n",
        "corr_xy = np.corrcoef(x, y)[0, 1]\n",
        "\n",
        "print(\"X:\", list_x)\n",
        "print(\"Y:\", list_y)\n",
        "print(\"Covariance:\", cov_xy)\n",
        "print(\"Correlation Coefficient:\", corr_xy)\n"
      ],
      "metadata": {
        "colab": {
          "base_uri": "https://localhost:8080/"
        },
        "id": "A1jEEB8RUhdv",
        "outputId": "2ccf04b7-195b-4e9f-bf25-702096c2ab3c"
      },
      "execution_count": 2,
      "outputs": [
        {
          "output_type": "stream",
          "name": "stdout",
          "text": [
            "X: [10, 20, 30, 40, 50]\n",
            "Y: [15, 25, 35, 45, 60]\n",
            "Covariance: 220.0\n",
            "Correlation Coefficient: 0.995893206467704\n"
          ]
        }
      ]
    },
    {
      "cell_type": "markdown",
      "source": [
        "So, your answer is correct:\n",
        "\n",
        "Covariance = 220.0\n",
        "\n",
        "Correlation Coefficient ≈ 0.9959 (very strong positive correlation)"
      ],
      "metadata": {
        "id": "UgmVEOUDU15x"
      }
    },
    {
      "cell_type": "markdown",
      "source": [
        "Question 7: Boxplot and Outliers\n",
        "\n",
        "Answer:\n",
        "\n",
        "- A boxplot (or whisker plot) visually shows the distribution of data based on:\n",
        "\n",
        "  - Minimum, Q1 (25%), Median (Q2), Q3 (75%), Maximum\n",
        "\n",
        "   - Outliers are values that lie outside 1.5 × IQR (Interquartile Range)\n",
        "\n",
        "Steps to identify outliers:\n",
        "\n",
        "1. Find Q1 (25th percentile) and Q3 (75th percentile).\n",
        "\n",
        "2. Compute IQR = Q3 – Q1.\n",
        "\n",
        "3. Outliers are values < (Q1 – 1.5 × IQR) or > (Q3 + 1.5 × IQR)."
      ],
      "metadata": {
        "id": "5Nav_nr3VRO8"
      }
    },
    {
      "cell_type": "code",
      "source": [
        "import matplotlib.pyplot as plt\n",
        "import numpy as np\n",
        "\n",
        "# Given data\n",
        "data = [12, 14, 14, 15, 18, 19, 19, 21, 22, 22, 23, 23, 24, 26, 29, 35]\n",
        "\n",
        "# Create boxplot\n",
        "plt.boxplot(data)\n",
        "plt.title(\"Boxplot of Data with Outliers\")\n",
        "plt.ylabel(\"Values\")\n",
        "plt.show()\n",
        "\n",
        "# Calculate outliers manually\n",
        "Q1 = np.percentile(data, 25)\n",
        "Q3 = np.percentile(data, 75)\n",
        "IQR = Q3 - Q1\n",
        "\n",
        "lower_bound = Q1 - 1.5 * IQR\n",
        "upper_bound = Q3 + 1.5 * IQR\n",
        "\n",
        "outliers = [x for x in data if x < lower_bound or x > upper_bound]\n",
        "\n",
        "print(\"Q1:\", Q1)\n",
        "print(\"Q3:\", Q3)\n",
        "print(\"IQR:\", IQR)\n",
        "print(\"Lower Bound:\", lower_bound)\n",
        "print(\"Upper Bound:\", upper_bound)\n",
        "print(\"Outliers:\", outliers)\n"
      ],
      "metadata": {
        "colab": {
          "base_uri": "https://localhost:8080/",
          "height": 556
        },
        "id": "WRfFGlaBV6AG",
        "outputId": "2fff3893-f0a3-4227-9c40-4ef7fbe1acd5"
      },
      "execution_count": 3,
      "outputs": [
        {
          "output_type": "display_data",
          "data": {
            "text/plain": [
              "<Figure size 640x480 with 1 Axes>"
            ],
            "image/png": "[encoded data removed]"
          },
          "metadata": {}
        },
        {
          "output_type": "stream",
          "name": "stdout",
          "text": [
            "Q1: 17.25\n",
            "Q3: 23.25\n",
            "IQR: 6.0\n",
            "Lower Bound: 8.25\n",
            "Upper Bound: 32.25\n",
            "Outliers: [35]\n"
          ]
        }
      ]
    },
    {
      "cell_type": "markdown",
      "source": [
        "Most data lies between 17.25 and 23.25.\n",
        "\n",
        "The acceptable range is 8.25 to 32.25.\n",
        "\n",
        "35 is outside this range → an outlier.\n",
        "\n",
        "Boxplot will highlight 35 as a point above the whiske"
      ],
      "metadata": {
        "id": "LVh1uBPwWI2C"
      }
    },
    {
      "cell_type": "markdown",
      "source": [
        "Question 8: Advertising Spend vs. Daily Sales\n",
        "\n",
        "Answer:\n",
        "\n",
        "- Covariance:\n",
        "\n",
        "1. Shows the direction of the relationship.\n",
        "\n",
        "2. Positive covariance → both variables increase together.\n",
        "\n",
        "3. Negative covariance → when one increases, the other decreases.\n",
        "\n",
        "- Correlation:\n",
        "\n",
        "  - Standardized value of covariance (ranges between -1 and +1).\n",
        "\n",
        "  - +1: Perfect positive relation.\n",
        "\n",
        "  - -1: Perfect negative relation.\n",
        "\n",
        "  - 0: No relation.\n",
        "\n",
        "  - More useful than covariance since it’s scale-independent."
      ],
      "metadata": {
        "id": "PMJ2SE-DWJ5u"
      }
    },
    {
      "cell_type": "code",
      "source": [
        "import numpy as np\n",
        "\n",
        "# Given data\n",
        "advertising_spend = [200, 250, 300, 400, 500]\n",
        "daily_sales = [2200, 2450, 2750, 3200, 4000]\n",
        "\n",
        "x = np.array(advertising_spend)\n",
        "y = np.array(daily_sales)\n",
        "\n",
        "# Correlation coefficient\n",
        "corr = np.corrcoef(x, y)[0, 1]\n",
        "\n",
        "print(\"Advertising Spend:\", advertising_spend)\n",
        "print(\"Daily Sales:\", daily_sales)\n",
        "print(\"Correlation Coefficient:\", corr)\n"
      ],
      "metadata": {
        "colab": {
          "base_uri": "https://localhost:8080/"
        },
        "id": "6eaMv_f_Wnuj",
        "outputId": "ffee1b4d-92fb-4a4c-ec58-5739ba1bde42"
      },
      "execution_count": 4,
      "outputs": [
        {
          "output_type": "stream",
          "name": "stdout",
          "text": [
            "Advertising Spend: [200, 250, 300, 400, 500]\n",
            "Daily Sales: [2200, 2450, 2750, 3200, 4000]\n",
            "Correlation Coefficient: 0.9935824101653329\n"
          ]
        }
      ]
    },
    {
      "cell_type": "markdown",
      "source": [
        "Question 9: Customer Satisfaction Survey Data\n",
        "\n",
        "Answer:\n",
        "\n",
        " To understand survey scores distribution, we use:\n",
        "\n",
        "- Summary Statistics:\n",
        "\n",
        "   1. Mean → Average satisfaction level.\n",
        "\n",
        "   2. Median & Mode → Central values.\n",
        "\n",
        "  3. Standard Deviation (SD) → Spread/variability of scores.\n",
        "\n",
        "- Visualization:\n",
        "\n",
        "1. Histogram → Frequency distribution of scores.\n",
        "\n",
        "2. Boxplot (optional) → To detect outliers."
      ],
      "metadata": {
        "id": "Be0NsD22W6rU"
      }
    },
    {
      "cell_type": "code",
      "source": [
        "import matplotlib.pyplot as plt\n",
        "\n",
        "# Given survey data\n",
        "survey_scores = [7, 8, 5, 9, 6, 7, 8, 9, 10, 4, 7, 6, 9, 8, 7]\n",
        "\n",
        "# Plot histogram\n",
        "plt.hist(survey_scores, bins=6, edgecolor='black', color='skyblue')\n",
        "plt.title(\"Customer Satisfaction Survey Scores\")\n",
        "plt.xlabel(\"Scores (1-10)\")\n",
        "plt.ylabel(\"Frequency\")\n",
        "plt.show()\n"
      ],
      "metadata": {
        "colab": {
          "base_uri": "https://localhost:8080/",
          "height": 472
        },
        "id": "pE8FtcX1XTMD",
        "outputId": "a38b68fa-a929-432e-9ed6-9f2dd8d59a73"
      },
      "execution_count": 5,
      "outputs": [
        {
          "output_type": "display_data",
          "data": {
            "text/plain": [
              "<Figure size 640x480 with 1 Axes>"
            ],
            "image/png": "[encoded data removed]"
          },
          "metadata": {}
        }
      ]
    },
    {
      "cell_type": "markdown",
      "source": [
        "Output (Histogram):\n",
        "\n",
        "- Bars showing how many customers gave scores between ranges (e.g., 6–7, 8–9, etc.).\n",
        "\n",
        "- Majority of scores cluster around 7–9, showing high satisfaction.\n",
        "\n",
        " Interpretation:\n",
        "\n",
        "- Mean is around 7.5 → Customers are generally satisfied.\n",
        "\n",
        "- Histogram shows most customers rated between 7 and 9.\n",
        "\n",
        " - Few gave very low scores (like 4–5)."
      ],
      "metadata": {
        "id": "XSZktMK7XVTd"
      }
    }
  ]
}